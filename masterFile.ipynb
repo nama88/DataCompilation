{
 "cells": [
  {
   "cell_type": "code",
   "execution_count": 2,
   "metadata": {},
   "outputs": [],
   "source": [
    "def generateCol(n):\n",
    "    names = []\n",
    "    for i in range(n):\n",
    "        col_name = ''\n",
    "        while i >= 0:\n",
    "            col_name = chr(i % 26 + 65) + col_name\n",
    "            i = i // 26 - 1\n",
    "        names.append(col_name)\n",
    "    return names\n"
   ]
  },
  {
   "cell_type": "code",
   "execution_count": 29,
   "metadata": {},
   "outputs": [
    {
     "name": "stderr",
     "output_type": "stream",
     "text": [
      "C:\\Users\\91965\\AppData\\Local\\Temp\\ipykernel_9780\\2074103261.py:56: FutureWarning: The behavior of DataFrame concatenation with empty or all-NA entries is deprecated. In a future version, this will no longer exclude empty or all-NA columns when determining the result dtypes. To retain the old behavior, exclude the relevant entries before the concat operation.\n",
      "  master = pd.concat([master, temp_df], ignore_index=True)\n"
     ]
    },
    {
     "name": "stdout",
     "output_type": "stream",
     "text": [
      "Master file updated and saved at master\\master.xlsx.\n"
     ]
    }
   ],
   "source": [
    "import os\n",
    "import pandas as pd\n",
    "\n",
    "# Paths and Initialization\n",
    "folderPath = \"FOLDER\"\n",
    "masterPath = \"Master datasheet.xlsx\"\n",
    "outputPath = \"master\\\\master.xlsx\"\n",
    "\n",
    "# Read the master template and initialize column names\n",
    "master = pd.read_excel(masterPath)\n",
    "masterColnames = master.columns  # Preserve original column names\n",
    "n = len(master.columns)\n",
    "Colnames = generateCol(n)\n",
    "master.columns = Colnames  # Temporary column names for internal processing\n",
    "\n",
    "# Loop through all files in the folder\n",
    "for foldername in os.listdir(folderPath):\n",
    "    paths = folderPath+\"\\\\\"+foldername\n",
    "    for filename in os.listdir(paths):\n",
    "    # for filename in os.listdir(folderPath):\n",
    "        try:\n",
    "            # Read column mapping sheet\n",
    "            Col_directions = pd.read_excel(masterPath, sheet_name=foldername)\n",
    "            if not {'From', 'To'}.issubset(Col_directions.columns):\n",
    "                raise ValueError(f\"Mapping sheet {filename} must contain 'From' and 'To' columns.\")\n",
    "\n",
    "            # Read the current file in the folder\n",
    "            filePath = os.path.join(paths, filename)\n",
    "            fileRead = pd.read_excel(filePath)\n",
    "            temp_data = []  # Temporary storage for processed rows\n",
    "            \n",
    "            # Breaking the measurement columns into M1, M2, M3\n",
    "            if 'Measurement' in fileRead.columns:\n",
    "                fileRead[['m1', 'm2', 'm3']] = fileRead['Measurement'].str.split(' x ', expand=True)\n",
    "                fileRead[['m1', 'm2', 'm3']] = fileRead[['m1', 'm2', 'm3']].apply(pd.to_numeric, errors='coerce')\n",
    "          \n",
    "            # Assign dynamic column names to the current file\n",
    "            n = len(fileRead.columns)\n",
    "            Colnames = generateCol(n)\n",
    "            fileRead.columns = Colnames\n",
    "\n",
    "            # Process rows and map data based on column directions\n",
    "            for _, row in fileRead.iterrows():\n",
    "                if pd.isna(row['A']):  # Stop processing if empty row\n",
    "                    break\n",
    "                \n",
    "                new_row = {}  # Create a dictionary for the new row\n",
    "                for _, movement_row in Col_directions.iterrows():\n",
    "                    if movement_row['From'] in row.index and movement_row['To'] in master.columns:\n",
    "                        new_row['A'] = filename\n",
    "                        new_row[movement_row['To']] = row[movement_row['From']]\n",
    "                temp_data.append(new_row)  # Add the processed row to temporary storage\n",
    "\n",
    "            # Convert temp_data to a DataFrame and append to master\n",
    "            temp_df = pd.DataFrame(temp_data)\n",
    "            master = pd.concat([master, temp_df], ignore_index=True)\n",
    "\n",
    "        except Exception as e:\n",
    "            print(f\"Error processing file {filename}: {e}\")\n",
    "            continue\n",
    "        \n",
    "def calculate_R(row):\n",
    "    if row['Q'] > 0:\n",
    "        return ((100 - row['Q']) / 100) * row['P']\n",
    "    else:\n",
    "        return ((100 + row['Q']) / 100) * row['P']\n",
    "    \n",
    "def calculate_S(row):\n",
    "    if pd.notna(row['R']) and pd.notna(row['C']):  # Check if both R and C are not NaN\n",
    "        return round(row['R'] * row['C'])  # Perform calculation and round to 2 decimal places\n",
    "    return None\n",
    "\n",
    "master['R'] = master.apply(calculate_R, axis=1)\n",
    "master['S'] =master.apply(calculate_S,axis=1)\n",
    "master['I'] = master['I'].apply(lambda x: None if pd.isna(x) or str(x).strip() == '' else x)\n",
    "\n",
    "# Restore original column names\n",
    "master.columns = masterColnames\n",
    "\n",
    "# Save the appended master file\n",
    "master.to_excel(outputPath, index=False)\n",
    "print(f\"Master file updated and saved at {outputPath}.\")\n"
   ]
  }
 ],
 "metadata": {
  "kernelspec": {
   "display_name": "Python 3",
   "language": "python",
   "name": "python3"
  },
  "language_info": {
   "codemirror_mode": {
    "name": "ipython",
    "version": 3
   },
   "file_extension": ".py",
   "mimetype": "text/x-python",
   "name": "python",
   "nbconvert_exporter": "python",
   "pygments_lexer": "ipython3",
   "version": "3.11.9"
  }
 },
 "nbformat": 4,
 "nbformat_minor": 2
}
